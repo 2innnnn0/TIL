{
 "cells": [
  {
   "cell_type": "code",
   "execution_count": 1,
   "metadata": {},
   "outputs": [],
   "source": [
    "# 01.Loading & examining our data.py\n",
    "# Import pandas \n",
    "import pandas as pd"
   ]
  },
  {
   "cell_type": "code",
   "execution_count": 3,
   "metadata": {},
   "outputs": [
    {
     "name": "stdout",
     "output_type": "stream",
     "text": [
      "Index(['uid', 'reg_date', 'device', 'gender', 'country', 'age'], dtype='object')\n",
      "Index(['date', 'uid', 'sku', 'price'], dtype='object')\n"
     ]
    }
   ],
   "source": [
    "# Load the customer_data\n",
    "customer_data = pd.read_csv(\"data/user_demographics_v1.csv\") # customer_data.csv\n",
    "\n",
    "# Load the app_purchases\n",
    "app_purchases = pd.read_csv(\"data/purchase_data_v1.csv\") # inapp_purchases.csv\n",
    "\n",
    "# Print the columns of customer data\n",
    "print(customer_data.columns)\n",
    "\n",
    "# Print the columns of app_purchases\n",
    "print(app_purchases.columns)"
   ]
  },
  {
   "cell_type": "code",
   "execution_count": 8,
   "metadata": {},
   "outputs": [
    {
     "data": {
      "text/html": [
       "<div>\n",
       "<style scoped>\n",
       "    .dataframe tbody tr th:only-of-type {\n",
       "        vertical-align: middle;\n",
       "    }\n",
       "\n",
       "    .dataframe tbody tr th {\n",
       "        vertical-align: top;\n",
       "    }\n",
       "\n",
       "    .dataframe thead th {\n",
       "        text-align: right;\n",
       "    }\n",
       "</style>\n",
       "<table border=\"1\" class=\"dataframe\">\n",
       "  <thead>\n",
       "    <tr style=\"text-align: right;\">\n",
       "      <th></th>\n",
       "      <th>uid</th>\n",
       "      <th>reg_date</th>\n",
       "      <th>device</th>\n",
       "      <th>gender</th>\n",
       "      <th>country</th>\n",
       "      <th>age</th>\n",
       "    </tr>\n",
       "  </thead>\n",
       "  <tbody>\n",
       "    <tr>\n",
       "      <th>0</th>\n",
       "      <td>54030035.0</td>\n",
       "      <td>2017-06-29T00:00:00Z</td>\n",
       "      <td>and</td>\n",
       "      <td>M</td>\n",
       "      <td>USA</td>\n",
       "      <td>19</td>\n",
       "    </tr>\n",
       "  </tbody>\n",
       "</table>\n",
       "</div>"
      ],
      "text/plain": [
       "          uid              reg_date device gender country  age\n",
       "0  54030035.0  2017-06-29T00:00:00Z    and      M     USA   19"
      ]
     },
     "execution_count": 8,
     "metadata": {},
     "output_type": "execute_result"
    }
   ],
   "source": [
    "customer_data.head(1)"
   ]
  },
  {
   "cell_type": "code",
   "execution_count": 13,
   "metadata": {},
   "outputs": [],
   "source": [
    "import datetime as dt"
   ]
  },
  {
   "cell_type": "code",
   "execution_count": 39,
   "metadata": {},
   "outputs": [],
   "source": [
    "customer_data['date']= pd.to_datetime(customer_data['reg_date'], format='%Y-%m-%d').dt.date\n"
   ]
  },
  {
   "cell_type": "code",
   "execution_count": 48,
   "metadata": {},
   "outputs": [],
   "source": [
    "customer_data['uid'] = customer_data['uid'].astype(int)"
   ]
  },
  {
   "cell_type": "code",
   "execution_count": 49,
   "metadata": {},
   "outputs": [
    {
     "data": {
      "text/html": [
       "<div>\n",
       "<style scoped>\n",
       "    .dataframe tbody tr th:only-of-type {\n",
       "        vertical-align: middle;\n",
       "    }\n",
       "\n",
       "    .dataframe tbody tr th {\n",
       "        vertical-align: top;\n",
       "    }\n",
       "\n",
       "    .dataframe thead th {\n",
       "        text-align: right;\n",
       "    }\n",
       "</style>\n",
       "<table border=\"1\" class=\"dataframe\">\n",
       "  <thead>\n",
       "    <tr style=\"text-align: right;\">\n",
       "      <th></th>\n",
       "      <th>uid</th>\n",
       "      <th>reg_date</th>\n",
       "      <th>device</th>\n",
       "      <th>gender</th>\n",
       "      <th>country</th>\n",
       "      <th>age</th>\n",
       "      <th>date</th>\n",
       "    </tr>\n",
       "  </thead>\n",
       "  <tbody>\n",
       "    <tr>\n",
       "      <th>0</th>\n",
       "      <td>54030035</td>\n",
       "      <td>2017-06-29T00:00:00Z</td>\n",
       "      <td>and</td>\n",
       "      <td>M</td>\n",
       "      <td>USA</td>\n",
       "      <td>19</td>\n",
       "      <td>2017-06-29</td>\n",
       "    </tr>\n",
       "    <tr>\n",
       "      <th>1</th>\n",
       "      <td>72574201</td>\n",
       "      <td>2018-03-05T00:00:00Z</td>\n",
       "      <td>iOS</td>\n",
       "      <td>F</td>\n",
       "      <td>TUR</td>\n",
       "      <td>22</td>\n",
       "      <td>2018-03-05</td>\n",
       "    </tr>\n",
       "    <tr>\n",
       "      <th>2</th>\n",
       "      <td>64187558</td>\n",
       "      <td>2016-02-07T00:00:00Z</td>\n",
       "      <td>iOS</td>\n",
       "      <td>M</td>\n",
       "      <td>USA</td>\n",
       "      <td>16</td>\n",
       "      <td>2016-02-07</td>\n",
       "    </tr>\n",
       "    <tr>\n",
       "      <th>3</th>\n",
       "      <td>92513925</td>\n",
       "      <td>2017-05-25T00:00:00Z</td>\n",
       "      <td>and</td>\n",
       "      <td>M</td>\n",
       "      <td>BRA</td>\n",
       "      <td>41</td>\n",
       "      <td>2017-05-25</td>\n",
       "    </tr>\n",
       "    <tr>\n",
       "      <th>4</th>\n",
       "      <td>99231338</td>\n",
       "      <td>2017-03-26T00:00:00Z</td>\n",
       "      <td>iOS</td>\n",
       "      <td>M</td>\n",
       "      <td>FRA</td>\n",
       "      <td>59</td>\n",
       "      <td>2017-03-26</td>\n",
       "    </tr>\n",
       "    <tr>\n",
       "      <th>...</th>\n",
       "      <td>...</td>\n",
       "      <td>...</td>\n",
       "      <td>...</td>\n",
       "      <td>...</td>\n",
       "      <td>...</td>\n",
       "      <td>...</td>\n",
       "      <td>...</td>\n",
       "    </tr>\n",
       "    <tr>\n",
       "      <th>9995</th>\n",
       "      <td>43138741</td>\n",
       "      <td>2016-11-23T00:00:00Z</td>\n",
       "      <td>and</td>\n",
       "      <td>M</td>\n",
       "      <td>BRA</td>\n",
       "      <td>16</td>\n",
       "      <td>2016-11-23</td>\n",
       "    </tr>\n",
       "    <tr>\n",
       "      <th>9996</th>\n",
       "      <td>30326568</td>\n",
       "      <td>2016-08-21T00:00:00Z</td>\n",
       "      <td>and</td>\n",
       "      <td>M</td>\n",
       "      <td>BRA</td>\n",
       "      <td>15</td>\n",
       "      <td>2016-08-21</td>\n",
       "    </tr>\n",
       "    <tr>\n",
       "      <th>9997</th>\n",
       "      <td>92384369</td>\n",
       "      <td>2015-08-20T00:00:00Z</td>\n",
       "      <td>and</td>\n",
       "      <td>F</td>\n",
       "      <td>DEU</td>\n",
       "      <td>33</td>\n",
       "      <td>2015-08-20</td>\n",
       "    </tr>\n",
       "    <tr>\n",
       "      <th>9998</th>\n",
       "      <td>98809962</td>\n",
       "      <td>2017-04-08T00:00:00Z</td>\n",
       "      <td>iOS</td>\n",
       "      <td>F</td>\n",
       "      <td>FRA</td>\n",
       "      <td>32</td>\n",
       "      <td>2017-04-08</td>\n",
       "    </tr>\n",
       "    <tr>\n",
       "      <th>9999</th>\n",
       "      <td>82078268</td>\n",
       "      <td>2018-02-23T00:00:00Z</td>\n",
       "      <td>and</td>\n",
       "      <td>F</td>\n",
       "      <td>CAN</td>\n",
       "      <td>31</td>\n",
       "      <td>2018-02-23</td>\n",
       "    </tr>\n",
       "  </tbody>\n",
       "</table>\n",
       "<p>10000 rows × 7 columns</p>\n",
       "</div>"
      ],
      "text/plain": [
       "           uid              reg_date device gender country  age        date\n",
       "0     54030035  2017-06-29T00:00:00Z    and      M     USA   19  2017-06-29\n",
       "1     72574201  2018-03-05T00:00:00Z    iOS      F     TUR   22  2018-03-05\n",
       "2     64187558  2016-02-07T00:00:00Z    iOS      M     USA   16  2016-02-07\n",
       "3     92513925  2017-05-25T00:00:00Z    and      M     BRA   41  2017-05-25\n",
       "4     99231338  2017-03-26T00:00:00Z    iOS      M     FRA   59  2017-03-26\n",
       "...        ...                   ...    ...    ...     ...  ...         ...\n",
       "9995  43138741  2016-11-23T00:00:00Z    and      M     BRA   16  2016-11-23\n",
       "9996  30326568  2016-08-21T00:00:00Z    and      M     BRA   15  2016-08-21\n",
       "9997  92384369  2015-08-20T00:00:00Z    and      F     DEU   33  2015-08-20\n",
       "9998  98809962  2017-04-08T00:00:00Z    iOS      F     FRA   32  2017-04-08\n",
       "9999  82078268  2018-02-23T00:00:00Z    and      F     CAN   31  2018-02-23\n",
       "\n",
       "[10000 rows x 7 columns]"
      ]
     },
     "execution_count": 49,
     "metadata": {},
     "output_type": "execute_result"
    }
   ],
   "source": [
    "customer_data"
   ]
  },
  {
   "cell_type": "code",
   "execution_count": 50,
   "metadata": {},
   "outputs": [
    {
     "name": "stdout",
     "output_type": "stream",
     "text": [
      "<class 'pandas.core.frame.DataFrame'>\n",
      "RangeIndex: 10000 entries, 0 to 9999\n",
      "Data columns (total 7 columns):\n",
      "uid         10000 non-null int64\n",
      "reg_date    10000 non-null object\n",
      "device      10000 non-null object\n",
      "gender      10000 non-null object\n",
      "country     10000 non-null object\n",
      "age         10000 non-null int64\n",
      "date        10000 non-null object\n",
      "dtypes: int64(2), object(5)\n",
      "memory usage: 547.0+ KB\n"
     ]
    }
   ],
   "source": [
    "customer_data.info()"
   ]
  },
  {
   "cell_type": "code",
   "execution_count": 51,
   "metadata": {},
   "outputs": [
    {
     "data": {
      "text/html": [
       "<div>\n",
       "<style scoped>\n",
       "    .dataframe tbody tr th:only-of-type {\n",
       "        vertical-align: middle;\n",
       "    }\n",
       "\n",
       "    .dataframe tbody tr th {\n",
       "        vertical-align: top;\n",
       "    }\n",
       "\n",
       "    .dataframe thead th {\n",
       "        text-align: right;\n",
       "    }\n",
       "</style>\n",
       "<table border=\"1\" class=\"dataframe\">\n",
       "  <thead>\n",
       "    <tr style=\"text-align: right;\">\n",
       "      <th></th>\n",
       "      <th>date</th>\n",
       "      <th>uid</th>\n",
       "      <th>sku</th>\n",
       "      <th>price</th>\n",
       "    </tr>\n",
       "  </thead>\n",
       "  <tbody>\n",
       "    <tr>\n",
       "      <th>0</th>\n",
       "      <td>2017-07-10</td>\n",
       "      <td>41195147</td>\n",
       "      <td>sku_three_499</td>\n",
       "      <td>499</td>\n",
       "    </tr>\n",
       "    <tr>\n",
       "      <th>1</th>\n",
       "      <td>2017-07-15</td>\n",
       "      <td>41195147</td>\n",
       "      <td>sku_three_499</td>\n",
       "      <td>499</td>\n",
       "    </tr>\n",
       "    <tr>\n",
       "      <th>2</th>\n",
       "      <td>2017-11-12</td>\n",
       "      <td>41195147</td>\n",
       "      <td>sku_four_599</td>\n",
       "      <td>599</td>\n",
       "    </tr>\n",
       "    <tr>\n",
       "      <th>3</th>\n",
       "      <td>2017-09-26</td>\n",
       "      <td>91591874</td>\n",
       "      <td>sku_two_299</td>\n",
       "      <td>299</td>\n",
       "    </tr>\n",
       "    <tr>\n",
       "      <th>4</th>\n",
       "      <td>2017-12-01</td>\n",
       "      <td>91591874</td>\n",
       "      <td>sku_four_599</td>\n",
       "      <td>599</td>\n",
       "    </tr>\n",
       "    <tr>\n",
       "      <th>...</th>\n",
       "      <td>...</td>\n",
       "      <td>...</td>\n",
       "      <td>...</td>\n",
       "      <td>...</td>\n",
       "    </tr>\n",
       "    <tr>\n",
       "      <th>9001</th>\n",
       "      <td>2017-02-06</td>\n",
       "      <td>16377492</td>\n",
       "      <td>sku_three_499</td>\n",
       "      <td>499</td>\n",
       "    </tr>\n",
       "    <tr>\n",
       "      <th>9002</th>\n",
       "      <td>2017-03-01</td>\n",
       "      <td>16377492</td>\n",
       "      <td>sku_seven_1499</td>\n",
       "      <td>499</td>\n",
       "    </tr>\n",
       "    <tr>\n",
       "      <th>9003</th>\n",
       "      <td>2017-05-29</td>\n",
       "      <td>92513925</td>\n",
       "      <td>sku_two_299</td>\n",
       "      <td>299</td>\n",
       "    </tr>\n",
       "    <tr>\n",
       "      <th>9004</th>\n",
       "      <td>2017-08-23</td>\n",
       "      <td>92513925</td>\n",
       "      <td>sku_four_599</td>\n",
       "      <td>599</td>\n",
       "    </tr>\n",
       "    <tr>\n",
       "      <th>9005</th>\n",
       "      <td>2018-03-26</td>\n",
       "      <td>92513925</td>\n",
       "      <td>sku_six_1299</td>\n",
       "      <td>299</td>\n",
       "    </tr>\n",
       "  </tbody>\n",
       "</table>\n",
       "<p>9006 rows × 4 columns</p>\n",
       "</div>"
      ],
      "text/plain": [
       "            date       uid             sku  price\n",
       "0     2017-07-10  41195147   sku_three_499    499\n",
       "1     2017-07-15  41195147   sku_three_499    499\n",
       "2     2017-11-12  41195147    sku_four_599    599\n",
       "3     2017-09-26  91591874     sku_two_299    299\n",
       "4     2017-12-01  91591874    sku_four_599    599\n",
       "...          ...       ...             ...    ...\n",
       "9001  2017-02-06  16377492   sku_three_499    499\n",
       "9002  2017-03-01  16377492  sku_seven_1499    499\n",
       "9003  2017-05-29  92513925     sku_two_299    299\n",
       "9004  2017-08-23  92513925    sku_four_599    599\n",
       "9005  2018-03-26  92513925    sku_six_1299    299\n",
       "\n",
       "[9006 rows x 4 columns]"
      ]
     },
     "execution_count": 51,
     "metadata": {},
     "output_type": "execute_result"
    }
   ],
   "source": [
    "app_purchases"
   ]
  },
  {
   "cell_type": "code",
   "execution_count": 52,
   "metadata": {},
   "outputs": [
    {
     "name": "stdout",
     "output_type": "stream",
     "text": [
      "<class 'pandas.core.frame.DataFrame'>\n",
      "RangeIndex: 9006 entries, 0 to 9005\n",
      "Data columns (total 4 columns):\n",
      "date     9006 non-null object\n",
      "uid      9006 non-null int64\n",
      "sku      9006 non-null object\n",
      "price    9006 non-null int64\n",
      "dtypes: int64(2), object(2)\n",
      "memory usage: 281.6+ KB\n"
     ]
    }
   ],
   "source": [
    "app_purchases.info()"
   ]
  },
  {
   "cell_type": "code",
   "execution_count": 53,
   "metadata": {},
   "outputs": [
    {
     "name": "stdout",
     "output_type": "stream",
     "text": [
      "Empty DataFrame\n",
      "Columns: [date, uid, sku, price, reg_date, device, gender, country, age]\n",
      "Index: []\n",
      "0\n"
     ]
    }
   ],
   "source": [
    "# %load 02_Merging on different sets of fields.py\n",
    "# 02_Merging on different sets of fields.py\n",
    "# Merge on the 'uid' and 'date' field\n",
    "uid_date_combined_data = app_purchases.merge(customer_data, on=['uid','date'], how='inner')\n",
    "\n",
    "# Examine the results \n",
    "print(uid_date_combined_data.head())\n",
    "print(len(uid_date_combined_data))"
   ]
  },
  {
   "cell_type": "code",
   "execution_count": null,
   "metadata": {},
   "outputs": [],
   "source": []
  }
 ],
 "metadata": {
  "kernelspec": {
   "display_name": "Python 3",
   "language": "python",
   "name": "python3"
  },
  "language_info": {
   "codemirror_mode": {
    "name": "ipython",
    "version": 3
   },
   "file_extension": ".py",
   "mimetype": "text/x-python",
   "name": "python",
   "nbconvert_exporter": "python",
   "pygments_lexer": "ipython3",
   "version": "3.7.6"
  }
 },
 "nbformat": 4,
 "nbformat_minor": 4
}
