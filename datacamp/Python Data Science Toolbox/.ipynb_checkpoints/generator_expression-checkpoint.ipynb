{
 "cells": [
  {
   "cell_type": "code",
   "execution_count": 2,
   "metadata": {},
   "outputs": [
    {
     "data": {
      "text/plain": [
       "[0, 2, 4, 6, 8, 10, 12, 14, 16, 18]"
      ]
     },
     "execution_count": 2,
     "metadata": {},
     "output_type": "execute_result"
    }
   ],
   "source": [
    "# %load generator\\ expressions_00.py\n",
    "\n",
    "# Generator expressions \n",
    "# recall list comprehension\n",
    "[2 * num for num in range(10)]"
   ]
  },
  {
   "cell_type": "markdown",
   "metadata": {},
   "source": [
    "- use () instead of []"
   ]
  },
  {
   "cell_type": "code",
   "execution_count": 3,
   "metadata": {},
   "outputs": [
    {
     "data": {
      "text/plain": [
       "<generator object <genexpr> at 0x11268fcd0>"
      ]
     },
     "execution_count": 3,
     "metadata": {},
     "output_type": "execute_result"
    }
   ],
   "source": [
    "(2 * num for num in range(10))"
   ]
  },
  {
   "cell_type": "markdown",
   "metadata": {},
   "source": [
    "### List Comprehensions vs. Generator\n",
    "- 차이가 무엇이냐 하면,\n",
    "- list comprehension은 list를 반환\n",
    "- Generator는 genetor object를 반환 \n",
    "- 둘다 iterated 하다"
   ]
  },
  {
   "cell_type": "code",
   "execution_count": 5,
   "metadata": {},
   "outputs": [
    {
     "name": "stdout",
     "output_type": "stream",
     "text": [
      "0\n",
      "1\n",
      "2\n",
      "3\n",
      "4\n",
      "5\n"
     ]
    }
   ],
   "source": [
    "result = (num for num in range(6))\n",
    "for num in result:\n",
    "    print(num)"
   ]
  },
  {
   "cell_type": "code",
   "execution_count": 6,
   "metadata": {},
   "outputs": [
    {
     "name": "stdout",
     "output_type": "stream",
     "text": [
      "[0, 1, 2, 3, 4, 5]\n"
     ]
    }
   ],
   "source": [
    "result = (num for num in range(6))\n",
    "print(list(result))"
   ]
  },
  {
   "cell_type": "markdown",
   "metadata": {},
   "source": [
    "## lazy evalutaion\n",
    "- 사용하는 경우는, \n",
    "- 극단적 예시로  [num for num in range(10**10000000)] 엄청 큰 연산을 실행할때, []는 메모리 리소스를 못견디고 뻗게될 것이다. 그러나 ()는 그렇지 않다. 전체목록을 만들지 않기 때문에, 메모리를 절약할 수 있다."
   ]
  },
  {
   "cell_type": "code",
   "execution_count": 8,
   "metadata": {},
   "outputs": [
    {
     "name": "stdout",
     "output_type": "stream",
     "text": [
      "0\n"
     ]
    }
   ],
   "source": [
    "result = (num for num in range(6))\n",
    "print(next(result))"
   ]
  },
  {
   "cell_type": "code",
   "execution_count": 9,
   "metadata": {},
   "outputs": [
    {
     "name": "stdout",
     "output_type": "stream",
     "text": [
      "1\n"
     ]
    }
   ],
   "source": [
    "print(next(result))"
   ]
  },
  {
   "cell_type": "code",
   "execution_count": 10,
   "metadata": {},
   "outputs": [
    {
     "name": "stdout",
     "output_type": "stream",
     "text": [
      "2\n"
     ]
    }
   ],
   "source": [
    "print(next(result))"
   ]
  },
  {
   "cell_type": "code",
   "execution_count": 11,
   "metadata": {},
   "outputs": [
    {
     "name": "stdout",
     "output_type": "stream",
     "text": [
      "3\n"
     ]
    }
   ],
   "source": [
    "print(next(result))"
   ]
  },
  {
   "cell_type": "code",
   "execution_count": 12,
   "metadata": {},
   "outputs": [
    {
     "name": "stdout",
     "output_type": "stream",
     "text": [
      "4\n"
     ]
    }
   ],
   "source": [
    "print(next(result))"
   ]
  },
  {
   "cell_type": "code",
   "execution_count": 13,
   "metadata": {},
   "outputs": [
    {
     "name": "stdout",
     "output_type": "stream",
     "text": [
      "5\n"
     ]
    }
   ],
   "source": [
    "print(next(result))"
   ]
  },
  {
   "cell_type": "markdown",
   "metadata": {},
   "source": [
    "### Conditional in generator"
   ]
  },
  {
   "cell_type": "code",
   "execution_count": 15,
   "metadata": {},
   "outputs": [
    {
     "name": "stdout",
     "output_type": "stream",
     "text": [
      "<generator object <genexpr> at 0x115ccb9d0>\n"
     ]
    }
   ],
   "source": [
    "even_nums = (num for num in range(10) if num % 2 == 0) \n",
    "print(even_nums)"
   ]
  },
  {
   "cell_type": "code",
   "execution_count": 17,
   "metadata": {},
   "outputs": [
    {
     "name": "stdout",
     "output_type": "stream",
     "text": [
      "[0, 2, 4, 6, 8]\n"
     ]
    }
   ],
   "source": [
    "print(list(even_nums))"
   ]
  },
  {
   "cell_type": "markdown",
   "metadata": {},
   "source": [
    "### generator function\n",
    "- def로 함수를 만들고, return yield를 써야한다."
   ]
  },
  {
   "cell_type": "code",
   "execution_count": 22,
   "metadata": {},
   "outputs": [
    {
     "name": "stdout",
     "output_type": "stream",
     "text": [
      "[0, 1, 2, 3, 4, 5, 6, 7, 8, 9]\n"
     ]
    }
   ],
   "source": [
    "# sequnece.py\n",
    "def num_sequence(n):\n",
    "    \"\"\"Generate values from 0 to n\"\"\"\n",
    "    i = 0\n",
    "    while i < n:\n",
    "        yield i\n",
    "        i += 1\n",
    "\n",
    "print(list(num_sequence(10)))"
   ]
  },
  {
   "cell_type": "markdown",
   "metadata": {},
   "source": [
    "### Use a generator function"
   ]
  },
  {
   "cell_type": "code",
   "execution_count": 23,
   "metadata": {},
   "outputs": [
    {
     "name": "stdout",
     "output_type": "stream",
     "text": [
      "<class 'generator'>\n"
     ]
    }
   ],
   "source": [
    "result = num_sequence(5)\n",
    "print(type(result))"
   ]
  },
  {
   "cell_type": "code",
   "execution_count": 24,
   "metadata": {},
   "outputs": [
    {
     "name": "stdout",
     "output_type": "stream",
     "text": [
      "0\n",
      "1\n",
      "2\n",
      "3\n",
      "4\n"
     ]
    }
   ],
   "source": [
    "for item in result:\n",
    "    print(item)"
   ]
  },
  {
   "cell_type": "markdown",
   "metadata": {},
   "source": [
    "### Q1. select from the options below the best description for the difference between list comprehensions and generators.\n",
    "\n",
    "```python\n",
    "# List of strings\n",
    "fellowship = ['frodo', 'samwise', 'merry', 'aragorn', 'legolas', 'boromir', 'gimli']\n",
    "\n",
    "# List comprehension\n",
    "fellow1 = [member for member in fellowship if len(member) >= 7]\n",
    "\n",
    "# Generator expression\n",
    "fellow2 = (member for member in fellowship if len(member) >= 7)\n",
    "```\n",
    "\n",
    "\n",
    "\n",
    "```\n",
    "POSIIBLE ANSWER LIST\n",
    "1. List comprehensions and generators are not different at all; they are just different ways of writing the same thing.\n",
    "2. A list comprehension produces a list as output, a generator produces a generator object.\n",
    "3. A list comprehension produces a list as output that can be iterated over, a generator produces a generator object that can't be iterated over.\n",
    "```\n",
    "\n",
    "\n",
    "- ANSWER : 2\n"
   ]
  },
  {
   "cell_type": "markdown",
   "metadata": {},
   "source": [
    "### Q2. Write your own generator expressions\n",
    "- Create a generator object that will produce values from 0 to 30. Assign the result to result and use num as the iterator variable in the generator expression.\n",
    "- Print the first 5 values by using next() appropriately in print().\n",
    "- Print the rest of the values by using a for loop to iterate over the generator object."
   ]
  },
  {
   "cell_type": "code",
   "execution_count": 25,
   "metadata": {},
   "outputs": [
    {
     "name": "stdout",
     "output_type": "stream",
     "text": [
      "0\n",
      "1\n",
      "2\n",
      "3\n",
      "4\n",
      "5\n",
      "6\n",
      "7\n",
      "8\n",
      "9\n",
      "10\n",
      "11\n",
      "12\n",
      "13\n",
      "14\n",
      "15\n",
      "16\n",
      "17\n",
      "18\n",
      "19\n",
      "20\n",
      "21\n",
      "22\n",
      "23\n",
      "24\n",
      "25\n",
      "26\n",
      "27\n",
      "28\n",
      "29\n",
      "30\n"
     ]
    }
   ],
   "source": [
    "# Create generator object: result\n",
    "result = (num for num in range(31))\n",
    "\n",
    "# Print the first 5 values\n",
    "print(next(result))\n",
    "print(next(result))\n",
    "print(next(result))\n",
    "print(next(result))\n",
    "print(next(result))\n",
    "\n",
    "# Print the rest of the values\n",
    "for value in result:\n",
    "    print(value)"
   ]
  },
  {
   "cell_type": "markdown",
   "metadata": {},
   "source": [
    "### Q3. Changing the output in generator expressions\n",
    "\n",
    "- Write a generator expression that will generate the lengths of each string in lannister. Use person as the iterator variable. Assign the result to lengths.\n",
    "- Supply the correct iterable in the for loop for printing the values in the generator object.\n"
   ]
  },
  {
   "cell_type": "code",
   "execution_count": 26,
   "metadata": {},
   "outputs": [
    {
     "name": "stdout",
     "output_type": "stream",
     "text": [
      "6\n",
      "5\n",
      "5\n",
      "6\n",
      "7\n"
     ]
    }
   ],
   "source": [
    "\n",
    "# Create a list of strings: lannister\n",
    "lannister = ['cersei', 'jaime', 'tywin', 'tyrion', 'joffrey']\n",
    "\n",
    "# Create a generator object: lengths\n",
    "lengths = (len(person) for person in lannister)\n",
    "\n",
    "# Iterate over and print the values in lengths\n",
    "for value in lengths:\n",
    "    print(value)\n"
   ]
  },
  {
   "cell_type": "markdown",
   "metadata": {},
   "source": [
    "### Q4. Build a generator\n",
    "\n",
    "- Complete the function header for the function get_lengths() that has a single parameter, input_list.\n",
    "- In the for loop in the function definition, yield the length of the strings in input_list.\n",
    "- Complete the iterable part of the for loop for printing the values generated by the get_lengths() generator function. Supply the call to get_lengths(), passing in the list lannister."
   ]
  },
  {
   "cell_type": "code",
   "execution_count": null,
   "metadata": {},
   "outputs": [],
   "source": [
    "\n",
    "# Create a list of strings\n",
    "lannister = ['cersei', 'jaime', 'tywin', 'tyrion', 'joffrey']\n",
    "\n",
    "# Define generator function get_lengths\n",
    "def get_lengths(input_list):\n",
    "    \"\"\"Generator function that yields the\n",
    "    length of the strings in input_list.\"\"\"\n",
    "\n",
    "    # Yield the length of a string\n",
    "    for person in input_list:\n",
    "        yield len(person)\n",
    "\n",
    "# Print the values generated by get_lengths()\n",
    "for value in get_lengths(lannister):\n",
    "    print(value)"
   ]
  },
  {
   "cell_type": "markdown",
   "metadata": {},
   "source": [
    "### Wrapping up comprehensions and generators. (LEC)\n",
    "\n",
    "- BASIC\n",
    "```python\n",
    "[output expression for iterator variable iterable]\n",
    "```\n",
    "- Avanved\n",
    "```python\n",
    "[ouput expression + conditional on output for iterator variable in iterable + conditional on iterable]\n",
    "```\n",
    "-> 지금까지 해왔던 걸 섞어서 문제를 풀어볼것이다."
   ]
  },
  {
   "cell_type": "markdown",
   "metadata": {},
   "source": [
    "### Q1. List comprehensions for time-stamped data\n",
    "\n",
    "- Extract the column 'created_at' from df and assign the result to tweet_time. Fun fact: the extracted column in tweet_time here is a Series data structure!\n",
    "- Create a list comprehension that extracts the time from each row in tweet_time. Each row is a string that represents a timestamp, and you will access the 12th to 19th characters in the string to extract the time. Use entry as the iterator variable and assign the result to tweet_clock_time. Remember that Python uses 0-based indexing!"
   ]
  },
  {
   "cell_type": "code",
   "execution_count": 28,
   "metadata": {},
   "outputs": [],
   "source": [
    "import pandas as pd\n",
    "tweed_df = pd.read_csv('data/tweets.csv')\n",
    "worldbank_df = pd.read_csv('data/world_ind_pop_data.csv')"
   ]
  },
  {
   "cell_type": "code",
   "execution_count": 29,
   "metadata": {},
   "outputs": [
    {
     "name": "stdout",
     "output_type": "stream",
     "text": [
      "['23:40:17', '23:40:17', '23:40:17', '23:40:17', '23:40:17', '23:40:17', '23:40:18', '23:40:17', '23:40:18', '23:40:18', '23:40:18', '23:40:17', '23:40:18', '23:40:18', '23:40:17', '23:40:18', '23:40:18', '23:40:17', '23:40:18', '23:40:17', '23:40:18', '23:40:18', '23:40:18', '23:40:18', '23:40:17', '23:40:18', '23:40:18', '23:40:17', '23:40:18', '23:40:18', '23:40:18', '23:40:18', '23:40:18', '23:40:18', '23:40:18', '23:40:18', '23:40:18', '23:40:18', '23:40:18', '23:40:18', '23:40:18', '23:40:18', '23:40:18', '23:40:18', '23:40:18', '23:40:18', '23:40:18', '23:40:18', '23:40:18', '23:40:18', '23:40:18', '23:40:18', '23:40:18', '23:40:18', '23:40:18', '23:40:18', '23:40:18', '23:40:18', '23:40:18', '23:40:18', '23:40:19', '23:40:18', '23:40:18', '23:40:18', '23:40:19', '23:40:19', '23:40:19', '23:40:18', '23:40:19', '23:40:19', '23:40:19', '23:40:18', '23:40:19', '23:40:19', '23:40:19', '23:40:18', '23:40:19', '23:40:19', '23:40:19', '23:40:19', '23:40:19', '23:40:19', '23:40:19', '23:40:19', '23:40:19', '23:40:19', '23:40:19', '23:40:19', '23:40:19', '23:40:19', '23:40:19', '23:40:19', '23:40:19', '23:40:19', '23:40:19', '23:40:19', '23:40:19', '23:40:19', '23:40:19', '23:40:19']\n"
     ]
    }
   ],
   "source": [
    "# Extract the created_at column from df: tweet_time\n",
    "# df.columns\n",
    "tweet_time = tweed_df['created_at']\n",
    "\n",
    "# Extract the clock time: tweet_clock_time\n",
    "tweet_clock_time = [entry[11:19] for entry in tweet_time]\n",
    "\n",
    "# Print the extracted times\n",
    "print(tweet_clock_time)"
   ]
  },
  {
   "cell_type": "markdown",
   "metadata": {},
   "source": [
    "### Q2. Conditional list comprehensions for time-stamped data\n",
    "\n",
    "- Extract the column 'created_at' from df and assign the result to tweet_time.\n",
    "- Create a list comprehension that extracts the time from each row in tweet_time. Each row is a string that represents a timestamp, and you will access the 12th to 19th characters in the string to extract the time. Use entry as the iterator variable and assign the result to tweet_clock_time. Additionally, add a conditional expression that checks whether entry[17:19] is equal to '19'."
   ]
  },
  {
   "cell_type": "code",
   "execution_count": 31,
   "metadata": {},
   "outputs": [
    {
     "name": "stdout",
     "output_type": "stream",
     "text": [
      "['23:40:19', '23:40:19', '23:40:19', '23:40:19', '23:40:19', '23:40:19', '23:40:19', '23:40:19', '23:40:19', '23:40:19', '23:40:19', '23:40:19', '23:40:19', '23:40:19', '23:40:19', '23:40:19', '23:40:19', '23:40:19', '23:40:19', '23:40:19', '23:40:19', '23:40:19', '23:40:19', '23:40:19', '23:40:19', '23:40:19', '23:40:19', '23:40:19', '23:40:19', '23:40:19', '23:40:19', '23:40:19', '23:40:19', '23:40:19']\n"
     ]
    }
   ],
   "source": [
    "\n",
    "# Extract the created_at column from df: tweet_time\n",
    "tweet_time = tweed_df['created_at']\n",
    "\n",
    "# Extract the clock time: tweet_clock_time\n",
    "tweet_clock_time = [entry[11:19] for entry in tweet_time if entry[17:19] == '19']\n",
    "\n",
    "# Print the extracted times\n",
    "print(tweet_clock_time)\n"
   ]
  },
  {
   "cell_type": "markdown",
   "metadata": {},
   "source": [
    "## (LEC) case study\n",
    "\n",
    "### World Bank Data\n",
    "- 반세기 동안의 세계 경제 지표들을 모아둔 것\n",
    "- 지표\n",
    "    - Population\n",
    "    - Electricity Consumpution\n",
    "    - Co2 emission\n",
    "    - Literacy Rates\n",
    "    - Unemployment\n",
    "    - Mortality Rates\n",
    "\n",
    "\n",
    "### Using zip()\n",
    "\n",
    "```python\n",
    "avengers = ['hawkeys', 'iron man', 'thor', 'quicksilver']\n",
    "names = ['barton','stark','odinson','maximoff']\n",
    "z = zip(avengers, names)\n",
    "print(type(z))\n",
    ">> <class 'zip'>\n",
    "\n",
    "print(list(z))\n",
    ">> [('hawkeys', 'barton'), ('iron man', 'stark'), ('thor', 'odinson'), ('quicksilver', 'maximoff')]\n",
    "```\n",
    "\n",
    "\n",
    "### Defining a function \n",
    "- raise.py\n",
    "```python\n",
    "def raise_both(value1, value2):\n",
    "    \"\"\"raise value1 to the power of value2 and vice versa\"\"\"\n",
    "    new_value1 = value1 ** value2\n",
    "    new_value2 = value2 ** value1\n",
    "    new_tuple = (new_value1, new_value2)\n",
    "    return new_tuple\n",
    "```\n",
    "\n",
    "### RE-cap : list Comprehensions\n",
    "- Basic\n",
    "[output expression for iterator variable in iterable ]\n",
    "\n",
    "- Advance\n",
    "[output expression + conditional on ouput for iterator variable in iterable + conditional on iterable ]"
   ]
  },
  {
   "cell_type": "markdown",
   "metadata": {},
   "source": [
    "### Q1. Dictionaries for data science\n",
    "- Create a zip object by calling zip() and passing to it feature_names and row_vals. Assign the result to zipped_lists.\n",
    "- Create a dictionary from the zipped_lists zip object by calling dict() with zipped_lists. Assign the resulting dictionary to rs_dict."
   ]
  },
  {
   "cell_type": "code",
   "execution_count": 36,
   "metadata": {},
   "outputs": [],
   "source": [
    "feature_names = ['CountryName',\n",
    " 'CountryCode',\n",
    " 'IndicatorName',\n",
    " 'IndicatorCode',\n",
    " 'Year',\n",
    " 'Value']\n",
    "\n",
    "row_vals= ['Arab World',\n",
    " 'ARB',\n",
    " 'Adolescent fertility rate (births per 1,000 women ages 15-19)',\n",
    " 'SP.ADO.TFRT',\n",
    " '1960',\n",
    " '133.56090740552298']"
   ]
  },
  {
   "cell_type": "code",
   "execution_count": 38,
   "metadata": {},
   "outputs": [
    {
     "name": "stdout",
     "output_type": "stream",
     "text": [
      "{'CountryName': 'Arab World', 'CountryCode': 'ARB', 'IndicatorName': 'Adolescent fertility rate (births per 1,000 women ages 15-19)', 'IndicatorCode': 'SP.ADO.TFRT', 'Year': '1960', 'Value': '133.56090740552298'}\n"
     ]
    }
   ],
   "source": [
    "# Zip lists: zipped_lists\n",
    "zipped_lists = zip(feature_names, row_vals)\n",
    "\n",
    "# Create a dictionary: rs_dict\n",
    "rs_dict = dict(zipped_lists)\n",
    "\n",
    "# Print the dictionary\n",
    "print(rs_dict)\n"
   ]
  },
  {
   "cell_type": "markdown",
   "metadata": {},
   "source": [
    "### Q2. Writing a function to help you\n",
    "- Define the function lists2dict() with two parameters: first is list1 and second is list2.\n",
    "- Return the resulting dictionary rs_dict in lists2dict().\n",
    "- Call the lists2dict() function with the arguments feature_names and row_vals. Assign the result of the function call to rs_fxn."
   ]
  },
  {
   "cell_type": "code",
   "execution_count": 39,
   "metadata": {},
   "outputs": [
    {
     "name": "stdout",
     "output_type": "stream",
     "text": [
      "{'CountryName': 'Arab World', 'CountryCode': 'ARB', 'IndicatorName': 'Adolescent fertility rate (births per 1,000 women ages 15-19)', 'IndicatorCode': 'SP.ADO.TFRT', 'Year': '1960', 'Value': '133.56090740552298'}\n"
     ]
    }
   ],
   "source": [
    "\n",
    "# Define lists2dict()\n",
    "def lists2dict(list1, list2):\n",
    "    \"\"\"Return a dictionary where list1 provides\n",
    "    the keys and list2 provides the values.\"\"\"\n",
    "\n",
    "    # Zip lists: zipped_lists\n",
    "    zipped_lists = zip(list1, list2)\n",
    "\n",
    "    # Create a dictionary: rs_dict\n",
    "    rs_dict = dict(zipped_lists)\n",
    "\n",
    "    # Return the dictionary\n",
    "    return rs_dict\n",
    "    \n",
    "\n",
    "# Call lists2dict: rs_fxn\n",
    "rs_fxn = lists2dict(feature_names, row_vals)\n",
    "\n",
    "# Print rs_fxn\n",
    "print(rs_fxn)"
   ]
  },
  {
   "cell_type": "markdown",
   "metadata": {},
   "source": [
    "### Q3. Using a list comprehension\n",
    "- Inspect the contents of row_lists by printing the first two lists in row_lists.\n",
    "- Create a list comprehension that generates a dictionary using lists2dict() for each sublist in row_lists. The keys are from the feature_names list and the values are the row entries in row_lists. Use sublist as your iterator variable and assign the resulting list of dictionaries to list_of_dicts.\n",
    "- Look at the first two dictionaries in list_of_dicts by printing them out."
   ]
  },
  {
   "cell_type": "code",
   "execution_count": 41,
   "metadata": {},
   "outputs": [
    {
     "name": "stdout",
     "output_type": "stream",
     "text": [
      "Arab World\n",
      "ARB\n",
      "{'CountryName': 'A', 'CountryCode': 'r', 'IndicatorName': 'a', 'IndicatorCode': 'b', 'Year': ' ', 'Value': 'W'}\n",
      "{'CountryName': 'A', 'CountryCode': 'R', 'IndicatorName': 'B'}\n"
     ]
    }
   ],
   "source": [
    "\n",
    "# Print the first two lists in row_lists\n",
    "print(row_vals[0])\n",
    "print(row_vals[1])\n",
    "\n",
    "# Turn list of lists into list of dicts: list_of_dicts\n",
    "list_of_dicts = [lists2dict(feature_names, sublist) for sublist in row_vals]\n",
    "\n",
    "# Print the first two dictionaries in list_of_dicts\n",
    "print(list_of_dicts[0])\n",
    "print(list_of_dicts[1])"
   ]
  },
  {
   "cell_type": "markdown",
   "metadata": {},
   "source": [
    "### Q4. Turning this all into a DataFrame\n",
    "- To use the DataFrame() function you need, first import the pandas package with the alias pd.\n",
    "- Create a DataFrame from the list of dictionaries in list_of_dicts by calling pd.DataFrame(). Assign the resulting DataFrame to df.\n",
    "- Inspect the contents of df printing the head of the DataFrame. Head of the DataFrame df can be accessed by calling df.head().\n"
   ]
  },
  {
   "cell_type": "code",
   "execution_count": 45,
   "metadata": {},
   "outputs": [
    {
     "name": "stdout",
     "output_type": "stream",
     "text": [
      "  CountryName CountryCode IndicatorName IndicatorCode Year Value\n",
      "0           A           r             a             b          W\n",
      "1           A           R             B           NaN  NaN   NaN\n",
      "2           A           d             o             l    e     s\n",
      "3           S           P             .             A    D     O\n",
      "4           1           9             6             0  NaN   NaN\n"
     ]
    },
    {
     "data": {
      "text/html": [
       "<div>\n",
       "<style scoped>\n",
       "    .dataframe tbody tr th:only-of-type {\n",
       "        vertical-align: middle;\n",
       "    }\n",
       "\n",
       "    .dataframe tbody tr th {\n",
       "        vertical-align: top;\n",
       "    }\n",
       "\n",
       "    .dataframe thead th {\n",
       "        text-align: right;\n",
       "    }\n",
       "</style>\n",
       "<table border=\"1\" class=\"dataframe\">\n",
       "  <thead>\n",
       "    <tr style=\"text-align: right;\">\n",
       "      <th></th>\n",
       "      <th>CountryName</th>\n",
       "      <th>CountryCode</th>\n",
       "      <th>IndicatorName</th>\n",
       "      <th>IndicatorCode</th>\n",
       "      <th>Year</th>\n",
       "      <th>Value</th>\n",
       "    </tr>\n",
       "  </thead>\n",
       "  <tbody>\n",
       "    <tr>\n",
       "      <th>0</th>\n",
       "      <td>A</td>\n",
       "      <td>r</td>\n",
       "      <td>a</td>\n",
       "      <td>b</td>\n",
       "      <td></td>\n",
       "      <td>W</td>\n",
       "    </tr>\n",
       "    <tr>\n",
       "      <th>1</th>\n",
       "      <td>A</td>\n",
       "      <td>R</td>\n",
       "      <td>B</td>\n",
       "      <td>NaN</td>\n",
       "      <td>NaN</td>\n",
       "      <td>NaN</td>\n",
       "    </tr>\n",
       "    <tr>\n",
       "      <th>2</th>\n",
       "      <td>A</td>\n",
       "      <td>d</td>\n",
       "      <td>o</td>\n",
       "      <td>l</td>\n",
       "      <td>e</td>\n",
       "      <td>s</td>\n",
       "    </tr>\n",
       "    <tr>\n",
       "      <th>3</th>\n",
       "      <td>S</td>\n",
       "      <td>P</td>\n",
       "      <td>.</td>\n",
       "      <td>A</td>\n",
       "      <td>D</td>\n",
       "      <td>O</td>\n",
       "    </tr>\n",
       "    <tr>\n",
       "      <th>4</th>\n",
       "      <td>1</td>\n",
       "      <td>9</td>\n",
       "      <td>6</td>\n",
       "      <td>0</td>\n",
       "      <td>NaN</td>\n",
       "      <td>NaN</td>\n",
       "    </tr>\n",
       "  </tbody>\n",
       "</table>\n",
       "</div>"
      ],
      "text/plain": [
       "  CountryName CountryCode IndicatorName IndicatorCode Year Value\n",
       "0           A           r             a             b          W\n",
       "1           A           R             B           NaN  NaN   NaN\n",
       "2           A           d             o             l    e     s\n",
       "3           S           P             .             A    D     O\n",
       "4           1           9             6             0  NaN   NaN"
      ]
     },
     "execution_count": 45,
     "metadata": {},
     "output_type": "execute_result"
    }
   ],
   "source": [
    "\n",
    "# Import the pandas package\n",
    "import pandas as pd\n",
    "\n",
    "# Turn list of lists into list of dicts: list_of_dicts\n",
    "list_of_dicts = [lists2dict(feature_names, sublist) for sublist in row_vals]\n",
    "\n",
    "# Turn list of dicts into a DataFrame: df\n",
    "df = pd.DataFrame(list_of_dicts)\n",
    "\n",
    "# Print the head of the DataFrame\n",
    "print(df.head())\n",
    "df.head()\n"
   ]
  },
  {
   "cell_type": "markdown",
   "metadata": {},
   "source": [
    "## (LEC) Using Python generators for streaming data"
   ]
  },
  {
   "cell_type": "markdown",
   "metadata": {},
   "source": [
    "### Q1. Processing data in chunks (1)\n",
    "- Use open() to bind the csv file 'world_dev_ind.csv' as file in the context manager.\n",
    "- Complete the for loop so that it iterates 1000 times to perform the loop body and process only the first 1000 rows of data of the file."
   ]
  },
  {
   "cell_type": "code",
   "execution_count": 52,
   "metadata": {},
   "outputs": [
    {
     "data": {
      "text/plain": [
       "{'Arab World': 5,\n",
       " 'Caribbean small states': 5,\n",
       " 'Central Europe and the Baltics': 5,\n",
       " 'East Asia & Pacific (all income levels)': 5,\n",
       " 'East Asia & Pacific (developing only)': 5,\n",
       " 'Euro area': 5,\n",
       " 'Europe & Central Asia (all income levels)': 5,\n",
       " 'Europe & Central Asia (developing only)': 5,\n",
       " 'European Union': 5,\n",
       " 'Fragile and conflict affected situations': 5,\n",
       " 'Heavily indebted poor countries (HIPC)': 5,\n",
       " 'High income': 5,\n",
       " 'High income: nonOECD': 5,\n",
       " 'High income: OECD': 5,\n",
       " 'Latin America & Caribbean (all income levels)': 5,\n",
       " 'Latin America & Caribbean (developing only)': 5,\n",
       " 'Least developed countries: UN classification': 5,\n",
       " 'Low & middle income': 5,\n",
       " 'Low income': 5,\n",
       " 'Lower middle income': 5,\n",
       " 'Middle East & North Africa (all income levels)': 5,\n",
       " 'Middle East & North Africa (developing only)': 5,\n",
       " 'Middle income': 5,\n",
       " 'North America': 5,\n",
       " 'OECD members': 5,\n",
       " 'Other small states': 5,\n",
       " 'Pacific island small states': 5,\n",
       " 'Small states': 5,\n",
       " 'South Asia': 5,\n",
       " 'Sub-Saharan Africa (all income levels)': 5,\n",
       " 'Sub-Saharan Africa (developing only)': 5,\n",
       " 'Upper middle income': 5,\n",
       " 'World': 4,\n",
       " 'Afghanistan': 4,\n",
       " 'Albania': 4,\n",
       " 'Algeria': 4,\n",
       " 'American Samoa': 4,\n",
       " 'Andorra': 4,\n",
       " 'Angola': 4,\n",
       " 'Antigua and Barbuda': 4,\n",
       " 'Argentina': 4,\n",
       " 'Armenia': 4,\n",
       " 'Aruba': 4,\n",
       " 'Australia': 4,\n",
       " 'Austria': 4,\n",
       " 'Azerbaijan': 4,\n",
       " '\"Bahamas': 4,\n",
       " 'Bahrain': 4,\n",
       " 'Bangladesh': 4,\n",
       " 'Barbados': 4,\n",
       " 'Belarus': 4,\n",
       " 'Belgium': 4,\n",
       " 'Belize': 4,\n",
       " 'Benin': 4,\n",
       " 'Bermuda': 4,\n",
       " 'Bhutan': 4,\n",
       " 'Bolivia': 4,\n",
       " 'Bosnia and Herzegovina': 4,\n",
       " 'Botswana': 4,\n",
       " 'Brazil': 4,\n",
       " 'Brunei Darussalam': 4,\n",
       " 'Bulgaria': 4,\n",
       " 'Burkina Faso': 4,\n",
       " 'Burundi': 4,\n",
       " 'Cabo Verde': 4,\n",
       " 'Cambodia': 4,\n",
       " 'Cameroon': 4,\n",
       " 'Canada': 4,\n",
       " 'Cayman Islands': 4,\n",
       " 'Central African Republic': 4,\n",
       " 'Chad': 4,\n",
       " 'Channel Islands': 4,\n",
       " 'Chile': 4,\n",
       " 'China': 4,\n",
       " 'Colombia': 4,\n",
       " 'Comoros': 4,\n",
       " '\"Congo': 8,\n",
       " 'Costa Rica': 4,\n",
       " \"Cote d'Ivoire\": 4,\n",
       " 'Croatia': 4,\n",
       " 'Cuba': 4,\n",
       " 'Curacao': 4,\n",
       " 'Cyprus': 4,\n",
       " 'Czech Republic': 4,\n",
       " 'Denmark': 4,\n",
       " 'Djibouti': 4,\n",
       " 'Dominica': 4,\n",
       " 'Dominican Republic': 4,\n",
       " 'Ecuador': 4,\n",
       " '\"Egypt': 4,\n",
       " 'El Salvador': 4,\n",
       " 'Equatorial Guinea': 4,\n",
       " 'Eritrea': 4,\n",
       " 'Estonia': 4,\n",
       " 'Ethiopia': 4,\n",
       " 'Faeroe Islands': 4,\n",
       " 'Fiji': 4,\n",
       " 'Finland': 4,\n",
       " 'France': 4,\n",
       " 'French Polynesia': 4,\n",
       " 'Gabon': 4,\n",
       " '\"Gambia': 4,\n",
       " 'Georgia': 4,\n",
       " 'Germany': 4,\n",
       " 'Ghana': 4,\n",
       " 'Greece': 4,\n",
       " 'Greenland': 4,\n",
       " 'Grenada': 4,\n",
       " 'Guam': 4,\n",
       " 'Guatemala': 4,\n",
       " 'Guinea': 4,\n",
       " 'Guinea-Bissau': 4,\n",
       " 'Guyana': 4,\n",
       " 'Haiti': 4,\n",
       " 'Honduras': 4,\n",
       " '\"Hong Kong SAR': 4,\n",
       " 'Hungary': 4,\n",
       " 'Iceland': 4,\n",
       " 'India': 4,\n",
       " 'Indonesia': 4,\n",
       " '\"Iran': 4,\n",
       " 'Iraq': 4,\n",
       " 'Ireland': 4,\n",
       " 'Isle of Man': 4,\n",
       " 'Israel': 4,\n",
       " 'Italy': 4,\n",
       " 'Jamaica': 4,\n",
       " 'Japan': 4,\n",
       " 'Jordan': 4,\n",
       " 'Kazakhstan': 4,\n",
       " 'Kenya': 4,\n",
       " 'Kiribati': 4,\n",
       " '\"Korea': 8,\n",
       " 'Kuwait': 4,\n",
       " 'Kyrgyz Republic': 4,\n",
       " 'Lao PDR': 4,\n",
       " 'Latvia': 4,\n",
       " 'Lebanon': 4,\n",
       " 'Lesotho': 4,\n",
       " 'Liberia': 4,\n",
       " 'Libya': 4,\n",
       " 'Liechtenstein': 4,\n",
       " 'Lithuania': 4,\n",
       " 'Luxembourg': 4,\n",
       " '\"Macao SAR': 4,\n",
       " '\"Macedonia': 4,\n",
       " 'Madagascar': 4,\n",
       " 'Malawi': 4,\n",
       " 'Malaysia': 4,\n",
       " 'Maldives': 4,\n",
       " 'Mali': 4,\n",
       " 'Malta': 4,\n",
       " 'Marshall Islands': 4,\n",
       " 'Mauritania': 4,\n",
       " 'Mauritius': 4,\n",
       " 'Mexico': 4,\n",
       " '\"Micronesia': 4,\n",
       " 'Moldova': 4,\n",
       " 'Monaco': 4,\n",
       " 'Mongolia': 4,\n",
       " 'Montenegro': 4,\n",
       " 'Morocco': 4,\n",
       " 'Mozambique': 4,\n",
       " 'Myanmar': 4,\n",
       " 'Namibia': 4,\n",
       " 'Nepal': 4,\n",
       " 'Netherlands': 4,\n",
       " 'New Caledonia': 4,\n",
       " 'New Zealand': 4,\n",
       " 'Nicaragua': 4,\n",
       " 'Niger': 4,\n",
       " 'Nigeria': 4,\n",
       " 'Northern Mariana Islands': 4,\n",
       " 'Norway': 4,\n",
       " 'Oman': 4,\n",
       " 'Pakistan': 4,\n",
       " 'Palau': 4,\n",
       " 'Panama': 4,\n",
       " 'Papua New Guinea': 4,\n",
       " 'Paraguay': 4,\n",
       " 'Peru': 4,\n",
       " 'Philippines': 4,\n",
       " 'Poland': 4,\n",
       " 'Portugal': 4,\n",
       " 'Puerto Rico': 4,\n",
       " 'Qatar': 4,\n",
       " 'Romania': 4,\n",
       " 'Russian Federation': 4,\n",
       " 'Rwanda': 4,\n",
       " 'Samoa': 4,\n",
       " 'San Marino': 4,\n",
       " 'Sao Tome and Principe': 4,\n",
       " 'Saudi Arabia': 4,\n",
       " 'Senegal': 4,\n",
       " 'Seychelles': 4,\n",
       " 'Sierra Leone': 4,\n",
       " 'Singapore': 4,\n",
       " 'Slovak Republic': 4,\n",
       " 'Slovenia': 4,\n",
       " 'Solomon Islands': 4,\n",
       " 'Somalia': 4,\n",
       " 'South Africa': 4,\n",
       " 'South Sudan': 4,\n",
       " 'Spain': 4,\n",
       " 'Sri Lanka': 4,\n",
       " 'St. Kitts and Nevis': 4,\n",
       " 'St. Lucia': 4,\n",
       " 'St. Vincent and the Grenadines': 4,\n",
       " 'Sudan': 4,\n",
       " 'Suriname': 4,\n",
       " 'Swaziland': 4,\n",
       " 'Sweden': 4,\n",
       " 'Switzerland': 4,\n",
       " 'Syrian Arab Republic': 4,\n",
       " 'Tajikistan': 4,\n",
       " 'Tanzania': 4,\n",
       " 'Thailand': 4,\n",
       " 'Timor-Leste': 4,\n",
       " 'Togo': 4,\n",
       " 'Tonga': 4,\n",
       " 'Trinidad and Tobago': 4,\n",
       " 'Tunisia': 4,\n",
       " 'Turkey': 4,\n",
       " 'Turkmenistan': 4,\n",
       " 'Turks and Caicos Islands': 4,\n",
       " 'Tuvalu': 4,\n",
       " 'Uganda': 4,\n",
       " 'Ukraine': 4,\n",
       " 'United Arab Emirates': 4,\n",
       " 'United Kingdom': 4,\n",
       " 'United States': 4,\n",
       " 'Uruguay': 4,\n",
       " 'Uzbekistan': 4,\n",
       " 'Vanuatu': 4,\n",
       " '\"Venezuela': 4,\n",
       " 'Vietnam': 4,\n",
       " 'Virgin Islands (U.S.)': 4,\n",
       " '\"Yemen': 4,\n",
       " 'Zambia': 4,\n",
       " 'Zimbabwe': 4}"
      ]
     },
     "execution_count": 52,
     "metadata": {},
     "output_type": "execute_result"
    }
   ],
   "source": [
    "# Open a connection to the file\n",
    "world_bank_path = 'data/world_ind_pop_data.csv'\n",
    "with open(world_bank_path) as file:\n",
    "\n",
    "    # Skip the column names\n",
    "    file.readline()\n",
    "\n",
    "    # Initialize an empty dictionary: counts_dict\n",
    "    counts_dict = {}\n",
    "\n",
    "    # Process only the first 1000 rows\n",
    "    for j in range(1000):\n",
    "\n",
    "        # Split the current line into a list: line\n",
    "        line = file.readline().split(',')\n",
    "\n",
    "        # Get the value for the first column: first_col\n",
    "        first_col = line[0]\n",
    "\n",
    "        # If the column value is in the dict, increment its value\n",
    "        if first_col in counts_dict.keys():\n",
    "            counts_dict[first_col] += 1\n",
    "\n",
    "        # Else, add to the dict and set value to 1\n",
    "        else:\n",
    "            counts_dict[first_col] = 1\n",
    "\n",
    "# Print the resulting dictionary\n",
    "# print(counts_dict)\n",
    "counts_dict"
   ]
  },
  {
   "cell_type": "markdown",
   "metadata": {},
   "source": [
    "### Q2. Writing a generator to load data in chunks (2)\n",
    "\n",
    "- In the function read_large_file(), read a line from file_object by using the method readline(). Assign the result to data.\n",
    "- In the function read_large_file(), yield the line read from the file data.\n",
    "- In the context manager, create a generator object gen_file by calling your generator function read_large_file() and passing file to it.\n",
    "- Print the first three lines produced by the generator object gen_file using next().\n"
   ]
  },
  {
   "cell_type": "code",
   "execution_count": 54,
   "metadata": {},
   "outputs": [
    {
     "name": "stdout",
     "output_type": "stream",
     "text": [
      "CountryName,CountryCode,Year,Total Population,Urban population (% of total)\n",
      "\n",
      "Arab World,ARB,1960,92495902.0,31.285384211605397\n",
      "\n",
      "Caribbean small states,CSS,1960,4190810.0,31.5974898513652\n",
      "\n"
     ]
    }
   ],
   "source": [
    "# Define read_large_file()\n",
    "def read_large_file(file_object):\n",
    "    \"\"\"A generator function to read a large file lazily.\"\"\"\n",
    "\n",
    "    # Loop indefinitely until the end of the file\n",
    "    while True:\n",
    "\n",
    "        # Read a line from the file: data\n",
    "        data = file_object.readline()\n",
    "\n",
    "        # Break if this is the end of the file\n",
    "        if not data:\n",
    "            break\n",
    "\n",
    "        # Yield the line of data\n",
    "        yield data\n",
    "        \n",
    "        \n",
    "# Open a connection to the file\n",
    "with open(world_bank_path) as file:\n",
    "\n",
    "    # Create a generator object for the file: gen_file\n",
    "    gen_file = read_large_file(file)\n",
    "\n",
    "    # Print the first three lines of the file\n",
    "    print(next(gen_file))\n",
    "    print(next(gen_file))\n",
    "    print(next(gen_file))\n"
   ]
  },
  {
   "cell_type": "markdown",
   "metadata": {},
   "source": [
    "### Q3. Writing a generator to load data in chunks (3)\n",
    "- Bind the file 'world_dev_ind.csv' to file in the context manager with open().\n",
    "- Complete the for loop so that it iterates over the generator from the call to read_large_file() to process all the rows of the file."
   ]
  },
  {
   "cell_type": "code",
   "execution_count": 55,
   "metadata": {},
   "outputs": [
    {
     "name": "stdout",
     "output_type": "stream",
     "text": [
      "{'CountryName': 1, 'Arab World': 55, 'Caribbean small states': 55, 'Central Europe and the Baltics': 55, 'East Asia & Pacific (all income levels)': 55, 'East Asia & Pacific (developing only)': 55, 'Euro area': 55, 'Europe & Central Asia (all income levels)': 55, 'Europe & Central Asia (developing only)': 55, 'European Union': 55, 'Fragile and conflict affected situations': 55, 'Heavily indebted poor countries (HIPC)': 55, 'High income': 55, 'High income: nonOECD': 55, 'High income: OECD': 55, 'Latin America & Caribbean (all income levels)': 55, 'Latin America & Caribbean (developing only)': 55, 'Least developed countries: UN classification': 55, 'Low & middle income': 55, 'Low income': 55, 'Lower middle income': 55, 'Middle East & North Africa (all income levels)': 55, 'Middle East & North Africa (developing only)': 55, 'Middle income': 55, 'North America': 55, 'OECD members': 55, 'Other small states': 55, 'Pacific island small states': 55, 'Small states': 55, 'South Asia': 55, 'Sub-Saharan Africa (all income levels)': 55, 'Sub-Saharan Africa (developing only)': 55, 'Upper middle income': 55, 'World': 55, 'Afghanistan': 55, 'Albania': 55, 'Algeria': 55, 'American Samoa': 55, 'Andorra': 55, 'Angola': 55, 'Antigua and Barbuda': 55, 'Argentina': 55, 'Armenia': 55, 'Aruba': 55, 'Australia': 55, 'Austria': 55, 'Azerbaijan': 55, '\"Bahamas': 55, 'Bahrain': 55, 'Bangladesh': 55, 'Barbados': 55, 'Belarus': 55, 'Belgium': 55, 'Belize': 55, 'Benin': 55, 'Bermuda': 55, 'Bhutan': 55, 'Bolivia': 55, 'Bosnia and Herzegovina': 55, 'Botswana': 55, 'Brazil': 55, 'Brunei Darussalam': 55, 'Bulgaria': 55, 'Burkina Faso': 55, 'Burundi': 55, 'Cabo Verde': 55, 'Cambodia': 55, 'Cameroon': 55, 'Canada': 55, 'Cayman Islands': 55, 'Central African Republic': 55, 'Chad': 55, 'Channel Islands': 55, 'Chile': 55, 'China': 55, 'Colombia': 55, 'Comoros': 55, '\"Congo': 110, 'Costa Rica': 55, \"Cote d'Ivoire\": 55, 'Croatia': 55, 'Cuba': 55, 'Curacao': 55, 'Cyprus': 55, 'Czech Republic': 55, 'Denmark': 55, 'Djibouti': 55, 'Dominica': 55, 'Dominican Republic': 55, 'Ecuador': 55, '\"Egypt': 55, 'El Salvador': 55, 'Equatorial Guinea': 55, 'Eritrea': 55, 'Estonia': 55, 'Ethiopia': 55, 'Faeroe Islands': 55, 'Fiji': 55, 'Finland': 55, 'France': 55, 'French Polynesia': 55, 'Gabon': 55, '\"Gambia': 55, 'Georgia': 55, 'Germany': 55, 'Ghana': 55, 'Greece': 55, 'Greenland': 55, 'Grenada': 55, 'Guam': 55, 'Guatemala': 55, 'Guinea': 55, 'Guinea-Bissau': 55, 'Guyana': 55, 'Haiti': 55, 'Honduras': 55, '\"Hong Kong SAR': 55, 'Hungary': 55, 'Iceland': 55, 'India': 55, 'Indonesia': 55, '\"Iran': 55, 'Iraq': 55, 'Ireland': 55, 'Isle of Man': 55, 'Israel': 55, 'Italy': 55, 'Jamaica': 55, 'Japan': 55, 'Jordan': 55, 'Kazakhstan': 55, 'Kenya': 55, 'Kiribati': 55, '\"Korea': 110, 'Kuwait': 52, 'Kyrgyz Republic': 55, 'Lao PDR': 55, 'Latvia': 55, 'Lebanon': 55, 'Lesotho': 55, 'Liberia': 55, 'Libya': 55, 'Liechtenstein': 55, 'Lithuania': 55, 'Luxembourg': 55, '\"Macao SAR': 55, '\"Macedonia': 55, 'Madagascar': 55, 'Malawi': 55, 'Malaysia': 55, 'Maldives': 55, 'Mali': 55, 'Malta': 55, 'Marshall Islands': 55, 'Mauritania': 55, 'Mauritius': 55, 'Mexico': 55, '\"Micronesia': 55, 'Moldova': 55, 'Monaco': 55, 'Mongolia': 55, 'Montenegro': 55, 'Morocco': 55, 'Mozambique': 55, 'Myanmar': 55, 'Namibia': 55, 'Nepal': 55, 'Netherlands': 55, 'New Caledonia': 55, 'New Zealand': 55, 'Nicaragua': 55, 'Niger': 55, 'Nigeria': 55, 'Northern Mariana Islands': 55, 'Norway': 55, 'Oman': 55, 'Pakistan': 55, 'Palau': 55, 'Panama': 55, 'Papua New Guinea': 55, 'Paraguay': 55, 'Peru': 55, 'Philippines': 55, 'Poland': 55, 'Portugal': 55, 'Puerto Rico': 55, 'Qatar': 55, 'Romania': 55, 'Russian Federation': 55, 'Rwanda': 55, 'Samoa': 55, 'San Marino': 55, 'Sao Tome and Principe': 55, 'Saudi Arabia': 55, 'Senegal': 55, 'Seychelles': 55, 'Sierra Leone': 55, 'Singapore': 55, 'Slovak Republic': 55, 'Slovenia': 55, 'Solomon Islands': 55, 'Somalia': 55, 'South Africa': 55, 'South Sudan': 55, 'Spain': 55, 'Sri Lanka': 55, 'St. Kitts and Nevis': 55, 'St. Lucia': 55, 'St. Vincent and the Grenadines': 55, 'Sudan': 55, 'Suriname': 55, 'Swaziland': 55, 'Sweden': 55, 'Switzerland': 55, 'Syrian Arab Republic': 55, 'Tajikistan': 55, 'Tanzania': 55, 'Thailand': 55, 'Timor-Leste': 55, 'Togo': 55, 'Tonga': 55, 'Trinidad and Tobago': 55, 'Tunisia': 55, 'Turkey': 55, 'Turkmenistan': 55, 'Turks and Caicos Islands': 55, 'Tuvalu': 55, 'Uganda': 55, 'Ukraine': 55, 'United Arab Emirates': 55, 'United Kingdom': 55, 'United States': 55, 'Uruguay': 55, 'Uzbekistan': 55, 'Vanuatu': 55, '\"Venezuela': 55, 'Vietnam': 55, 'Virgin Islands (U.S.)': 55, '\"Yemen': 55, 'Zambia': 55, 'Zimbabwe': 55, 'Serbia': 25, 'West Bank and Gaza': 25, 'Sint Maarten (Dutch part)': 17}\n"
     ]
    }
   ],
   "source": [
    "\n",
    "# Initialize an empty dictionary: counts_dict\n",
    "counts_dict = {}\n",
    "\n",
    "# Open a connection to the file\n",
    "with open(world_bank_path) as file:\n",
    "\n",
    "    # Iterate over the generator from read_large_file()\n",
    "    for line in read_large_file(file):\n",
    "\n",
    "        row = line.split(',')\n",
    "        first_col = row[0]\n",
    "\n",
    "        if first_col in counts_dict.keys():\n",
    "            counts_dict[first_col] += 1\n",
    "        else:\n",
    "            counts_dict[first_col] = 1\n",
    "\n",
    "# Print            \n",
    "print(counts_dict)"
   ]
  },
  {
   "cell_type": "markdown",
   "metadata": {},
   "source": [
    "## (LEC) Using pandas' read_csv iterator for streaming data\n",
    "\n",
    "### Reading Files in Chunks\n",
    "- read_csv() `chunck_size` argument를 사용."
   ]
  },
  {
   "cell_type": "markdown",
   "metadata": {},
   "source": [
    "### Q1. Writing an iterator to load data in chunks (1)\n",
    "- Use pd.read_csv() to read in 'ind_pop.csv' in chunks of size 10. Assign the result to df_reader.\n",
    "- Print the first two chunks from df_reader."
   ]
  },
  {
   "cell_type": "code",
   "execution_count": null,
   "metadata": {},
   "outputs": [],
   "source": [
    "# Import the pandas package\n",
    "import pandas as pd\n",
    "\n",
    "# Initialize reader object: df_reader\n",
    "df_reader = pd.read_csv('ind_pop.csv', chunksize=10)\n",
    "\n",
    "# Print two chunks\n",
    "print(next(df_reader))\n",
    "print(next(df_reader))"
   ]
  },
  {
   "cell_type": "markdown",
   "metadata": {},
   "source": [
    "### Q2. Writing an iterator to load data in chunks (2)\n",
    "- Use pd.read_csv() to read in the file in 'ind_pop_data.csv' in chunks of size 1000. Assign the result to urb_pop_reader.\n",
    "- Get the first DataFrame chunk from the iterable urb_pop_reader and assign this to df_urb_pop.\n",
    "- Select only the rows of df_urb_pop that have a 'CountryCode' of 'CEB'. To do this, compare whether df_urb_pop['CountryCode'] is equal to 'CEB' within the square brackets in df_urb_pop[____].\n",
    "- Using zip(), zip together the 'Total Population' and 'Urban population (% of total)' columns of df_pop_ceb. Assign the resulting zip object to pops.\n"
   ]
  },
  {
   "cell_type": "code",
   "execution_count": null,
   "metadata": {},
   "outputs": [],
   "source": [
    "\n",
    "# Initialize reader object: urb_pop_reader\n",
    "urb_pop_reader = pd.read_csv('ind_pop_data.csv', chunksize= 1000)\n",
    "\n",
    "# Get the first DataFrame chunk: df_urb_pop\n",
    "df_urb_pop = next(urb_pop_reader)\n",
    "\n",
    "# Check out the head of the DataFrame\n",
    "print(df_urb_pop.head())\n",
    "\n",
    "# Check out specific country: df_pop_ceb\n",
    "df_pop_ceb = df_urb_pop[df_urb_pop['CountryCode']=='CEB']\n",
    "\n",
    "# Zip DataFrame columns of interest: pops\n",
    "pops = zip(df_pop_ceb['Total Population'], df_pop_ceb['Urban population (% of total)'])\n",
    "\n",
    "# Turn zip object into list: pops_list\n",
    "pops_list = list(pops)\n",
    "\n",
    "# Print pops_list\n",
    "print(pops_list)"
   ]
  },
  {
   "cell_type": "markdown",
   "metadata": {},
   "source": [
    "### Q3. Writing an iterator to load data in chunks (3)\n",
    "- Write a list comprehension to generate a list of values from pops_list for the new column 'Total Urban Population'. The output expression should be the product of the first and second element in each tuple in pops_list. Because the 2nd element is a percentage, you also need to either multiply the result by 0.01 or divide it by 100. In addition, note that the column 'Total Urban Population' should only be able to take on integer values. To ensure this, make sure you cast the output expression to an integer with int().\n",
    "- Create a scatter plot where the x-axis are values from the 'Year' column and the y-axis are values from the 'Total Urban Population' column."
   ]
  },
  {
   "cell_type": "code",
   "execution_count": null,
   "metadata": {},
   "outputs": [],
   "source": [
    "\n",
    "# Code from previous exercise\n",
    "urb_pop_reader = pd.read_csv('ind_pop_data.csv', chunksize=1000)\n",
    "df_urb_pop = next(urb_pop_reader)\n",
    "df_pop_ceb = df_urb_pop[df_urb_pop['CountryCode'] == 'CEB']\n",
    "pops = zip(df_pop_ceb['Total Population'], \n",
    "           df_pop_ceb['Urban population (% of total)'])\n",
    "pops_list = list(pops)\n",
    "\n",
    "# Use list comprehension to create new DataFrame column 'Total Urban Population'\n",
    "df_pop_ceb['Total Urban Population'] = [ int(i * j * 0.01) for i,j in pops_list ]\n",
    "\n",
    "# Plot urban population data\n",
    "df_pop_ceb.plot(kind='scatter', x=\"Year\", y=\"Total Urban Population\")\n",
    "plt.show()"
   ]
  },
  {
   "cell_type": "markdown",
   "metadata": {},
   "source": [
    "![](data:image/svg+xml;base64,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)"
   ]
  },
  {
   "cell_type": "markdown",
   "metadata": {},
   "source": [
    "### Q4. Writing an iterator to load data in chunks (4)\n",
    "- Initialize an empty DataFrame data using pd.DataFrame().\n",
    "- In the for loop, iterate over urb_pop_reader to be able to process all the DataFrame chunks in the dataset.\n",
    "- Using the method append() of the DataFrame data, append df_pop_ceb to data.\n"
   ]
  },
  {
   "cell_type": "code",
   "execution_count": null,
   "metadata": {},
   "outputs": [],
   "source": [
    "\n",
    "# Initialize reader object: urb_pop_reader\n",
    "urb_pop_reader = pd.read_csv('ind_pop_data.csv', chunksize=1000)\n",
    "\n",
    "# Initialize empty DataFrame: data\n",
    "data = pd.DataFrame()\n",
    "\n",
    "# Iterate over each DataFrame chunk\n",
    "for df_urb_pop in urb_pop_reader:\n",
    "\n",
    "    # Check out specific country: df_pop_ceb\n",
    "    df_pop_ceb = df_urb_pop[df_urb_pop['CountryCode'] == 'CEB']\n",
    "\n",
    "    # Zip DataFrame columns of interest: pops\n",
    "    pops = zip(df_pop_ceb['Total Population'],\n",
    "                df_pop_ceb['Urban population (% of total)'])\n",
    "\n",
    "    # Turn zip object into list: pops_list\n",
    "    pops_list = list(pops)\n",
    "\n",
    "    # Use list comprehension to create new DataFrame column 'Total Urban Population'\n",
    "    df_pop_ceb['Total Urban Population'] = [int(tup[0] * tup[1] * 0.01) for tup in pops_list]\n",
    "    \n",
    "    # Append DataFrame chunk to data: data\n",
    "    data = data.append(df_pop_ceb)\n",
    "\n",
    "# Plot urban population data\n",
    "data.plot(kind='scatter', x='Year', y='Total Urban Population')\n",
    "plt.show()\n"
   ]
  },
  {
   "cell_type": "markdown",
   "metadata": {},
   "source": [
    "![](data:image/svg+xml;base64,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)"
   ]
  },
  {
   "cell_type": "markdown",
   "metadata": {},
   "source": [
    "### Q5. Writing an iterator to load data in chunks (5)\n",
    "- Define the function plot_pop() that has two arguments: first is filename for the file to -process and second is country_code for the country to be processed in the dataset.\n",
    "- Call plot_pop() to process the data for country code 'CEB' in the file 'ind_pop_data.csv'.\n",
    "- Call plot_pop() to process the data for country code 'ARB' in the file 'ind_pop_data.csv'."
   ]
  },
  {
   "cell_type": "code",
   "execution_count": null,
   "metadata": {},
   "outputs": [],
   "source": [
    "\n",
    "# Define plot_pop()\n",
    "def plot_pop(filename, country_code):\n",
    "\n",
    "    # Initialize reader object: urb_pop_reader\n",
    "    urb_pop_reader = pd.read_csv(filename, chunksize=1000)\n",
    "\n",
    "    # Initialize empty DataFrame: data\n",
    "    data = pd.DataFrame()\n",
    "    \n",
    "    # Iterate over each DataFrame chunk\n",
    "    for df_urb_pop in urb_pop_reader:\n",
    "        # Check out specific country: df_pop_ceb\n",
    "        df_pop_ceb = df_urb_pop[df_urb_pop['CountryCode'] == country_code]\n",
    "\n",
    "        # Zip DataFrame columns of interest: pops\n",
    "        pops = zip(df_pop_ceb['Total Population'],\n",
    "                    df_pop_ceb['Urban population (% of total)'])\n",
    "\n",
    "        # Turn zip object into list: pops_list\n",
    "        pops_list = list(pops)\n",
    "\n",
    "        # Use list comprehension to create new DataFrame column 'Total Urban Population'\n",
    "        df_pop_ceb['Total Urban Population'] = [int(tup[0] * tup[1] * 0.01) for tup in pops_list]\n",
    "    \n",
    "        # Append DataFrame chunk to data: data\n",
    "        data = data.append(df_pop_ceb)\n",
    "\n",
    "    # Plot urban population data\n",
    "    data.plot(kind='scatter', x='Year', y='Total Urban Population')\n",
    "    plt.show()\n",
    "\n",
    "# Set the filename: fn\n",
    "fn = 'ind_pop_data.csv'\n",
    "\n",
    "# Call plot_pop for country code 'CEB'\n",
    "plot_pop(fn, \"CEB\")\n",
    "\n",
    "# Call plot_pop for country code 'ARB'\n",
    "plot_pop(fn, \"ARB\")\n"
   ]
  },
  {
   "cell_type": "markdown",
   "metadata": {},
   "source": [
    "![](data:image/svg+xml;base64,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)"
   ]
  },
  {
   "cell_type": "code",
   "execution_count": null,
   "metadata": {},
   "outputs": [],
   "source": []
  }
 ],
 "metadata": {
  "kernelspec": {
   "display_name": "Python 3",
   "language": "python",
   "name": "python3"
  },
  "language_info": {
   "codemirror_mode": {
    "name": "ipython",
    "version": 3
   },
   "file_extension": ".py",
   "mimetype": "text/x-python",
   "name": "python",
   "nbconvert_exporter": "python",
   "pygments_lexer": "ipython3",
   "version": "3.7.6"
  }
 },
 "nbformat": 4,
 "nbformat_minor": 4
}
