{
 "cells": [
  {
   "cell_type": "code",
   "execution_count": 1,
   "metadata": {},
   "outputs": [],
   "source": [
    "# !pip install gpx-csv-converter"
   ]
  },
  {
   "cell_type": "markdown",
   "metadata": {},
   "source": [
    "1. 패키지 로드(gpx_to_csv)\n",
    "2. 데이터 불러오기 (운행을 완료후 앱으로 올라오는 GPX를 자동으로 드랍박스에 저장하기. 드랍박스에 저장된 .gpx를 불러오기)\n",
    "3. csv로 변환하기\n",
    "4. 변환된 데이터를 빅쿼리에 업로드하기\n",
    "\n",
    "\n",
    "- 한계점.\n",
    "    - 상태값을 같이 적재하면 좋은데.\n",
    "- 상태값 종류\n",
    "    - 운행시작을 누르면, 기록 <!-- arrived, picked_up, dropped_off -->\n",
    "    - idle 휴식중(신규배차X)\n",
    "    - wating 대기중(신규배차ON)\n",
    "    - picked_up(pickup_point픽업지로 이동중)\n",
    "    - delivering(delivery_point전달지로 이동중)\n",
    "    - off(운행종료)\n",
    "- 적재되는 데이터\n",
    "    - \"timestamp\" : 1초 단위 시간(zone : Asia/Seoul )\n",
    "    - \"latitude\" : 위도\n",
    "    - \"longitude\" : 경도\n",
    "    - \"elevation\" : 고도\n",
    "    - \"heart_rate\" # 적재안함"
   ]
  },
  {
   "cell_type": "code",
   "execution_count": 2,
   "metadata": {},
   "outputs": [],
   "source": [
    "from gpx_csv_converter import Converter"
   ]
  },
  {
   "cell_type": "code",
   "execution_count": 6,
   "metadata": {},
   "outputs": [
    {
     "data": {
      "text/plain": [
       "<gpx_csv_converter.Converter at 0x10b397150>"
      ]
     },
     "execution_count": 6,
     "metadata": {},
     "output_type": "execute_result"
    }
   ],
   "source": [
    "Converter(input_file=\"../../../../Dropbox/gpx/504_20200509095417.gpx\", output_file=\"output.csv\")\n"
   ]
  },
  {
   "cell_type": "code",
   "execution_count": 7,
   "metadata": {},
   "outputs": [],
   "source": [
    "import pandas as pd"
   ]
  },
  {
   "cell_type": "code",
   "execution_count": 9,
   "metadata": {},
   "outputs": [
    {
     "data": {
      "text/html": [
       "<div>\n",
       "<style scoped>\n",
       "    .dataframe tbody tr th:only-of-type {\n",
       "        vertical-align: middle;\n",
       "    }\n",
       "\n",
       "    .dataframe tbody tr th {\n",
       "        vertical-align: top;\n",
       "    }\n",
       "\n",
       "    .dataframe thead th {\n",
       "        text-align: right;\n",
       "    }\n",
       "</style>\n",
       "<table border=\"1\" class=\"dataframe\">\n",
       "  <thead>\n",
       "    <tr style=\"text-align: right;\">\n",
       "      <th></th>\n",
       "      <th>timestamp</th>\n",
       "      <th>latitude</th>\n",
       "      <th>longitude</th>\n",
       "      <th>elevation</th>\n",
       "      <th>heart_rate</th>\n",
       "    </tr>\n",
       "  </thead>\n",
       "  <tbody>\n",
       "    <tr>\n",
       "      <th>0</th>\n",
       "      <td>2020-05-09T12:24:58Z</td>\n",
       "      <td>37.535983</td>\n",
       "      <td>127.075437</td>\n",
       "      <td>27</td>\n",
       "      <td>NaN</td>\n",
       "    </tr>\n",
       "    <tr>\n",
       "      <th>1</th>\n",
       "      <td>2020-05-09T12:25:08Z</td>\n",
       "      <td>37.535963</td>\n",
       "      <td>127.075432</td>\n",
       "      <td>27</td>\n",
       "      <td>NaN</td>\n",
       "    </tr>\n",
       "    <tr>\n",
       "      <th>2</th>\n",
       "      <td>2020-05-09T12:25:09Z</td>\n",
       "      <td>37.535965</td>\n",
       "      <td>127.075430</td>\n",
       "      <td>27</td>\n",
       "      <td>NaN</td>\n",
       "    </tr>\n",
       "    <tr>\n",
       "      <th>3</th>\n",
       "      <td>2020-05-09T12:25:14Z</td>\n",
       "      <td>37.535954</td>\n",
       "      <td>127.075436</td>\n",
       "      <td>27</td>\n",
       "      <td>NaN</td>\n",
       "    </tr>\n",
       "    <tr>\n",
       "      <th>4</th>\n",
       "      <td>2020-05-09T12:25:17Z</td>\n",
       "      <td>37.535946</td>\n",
       "      <td>127.075434</td>\n",
       "      <td>27</td>\n",
       "      <td>NaN</td>\n",
       "    </tr>\n",
       "    <tr>\n",
       "      <th>...</th>\n",
       "      <td>...</td>\n",
       "      <td>...</td>\n",
       "      <td>...</td>\n",
       "      <td>...</td>\n",
       "      <td>...</td>\n",
       "    </tr>\n",
       "    <tr>\n",
       "      <th>656</th>\n",
       "      <td>2020-05-09T12:43:49Z</td>\n",
       "      <td>37.535984</td>\n",
       "      <td>127.075425</td>\n",
       "      <td>29</td>\n",
       "      <td>NaN</td>\n",
       "    </tr>\n",
       "    <tr>\n",
       "      <th>657</th>\n",
       "      <td>2020-05-09T12:43:50Z</td>\n",
       "      <td>37.535994</td>\n",
       "      <td>127.075414</td>\n",
       "      <td>29</td>\n",
       "      <td>NaN</td>\n",
       "    </tr>\n",
       "    <tr>\n",
       "      <th>658</th>\n",
       "      <td>2020-05-09T12:43:51Z</td>\n",
       "      <td>37.536002</td>\n",
       "      <td>127.075412</td>\n",
       "      <td>29</td>\n",
       "      <td>NaN</td>\n",
       "    </tr>\n",
       "    <tr>\n",
       "      <th>659</th>\n",
       "      <td>2020-05-09T12:43:52Z</td>\n",
       "      <td>37.536011</td>\n",
       "      <td>127.075410</td>\n",
       "      <td>29</td>\n",
       "      <td>NaN</td>\n",
       "    </tr>\n",
       "    <tr>\n",
       "      <th>660</th>\n",
       "      <td>2020-05-09T12:43:54Z</td>\n",
       "      <td>37.536027</td>\n",
       "      <td>127.075412</td>\n",
       "      <td>30</td>\n",
       "      <td>NaN</td>\n",
       "    </tr>\n",
       "  </tbody>\n",
       "</table>\n",
       "<p>661 rows × 5 columns</p>\n",
       "</div>"
      ],
      "text/plain": [
       "                timestamp   latitude   longitude  elevation  heart_rate\n",
       "0    2020-05-09T12:24:58Z  37.535983  127.075437         27         NaN\n",
       "1    2020-05-09T12:25:08Z  37.535963  127.075432         27         NaN\n",
       "2    2020-05-09T12:25:09Z  37.535965  127.075430         27         NaN\n",
       "3    2020-05-09T12:25:14Z  37.535954  127.075436         27         NaN\n",
       "4    2020-05-09T12:25:17Z  37.535946  127.075434         27         NaN\n",
       "..                    ...        ...         ...        ...         ...\n",
       "656  2020-05-09T12:43:49Z  37.535984  127.075425         29         NaN\n",
       "657  2020-05-09T12:43:50Z  37.535994  127.075414         29         NaN\n",
       "658  2020-05-09T12:43:51Z  37.536002  127.075412         29         NaN\n",
       "659  2020-05-09T12:43:52Z  37.536011  127.075410         29         NaN\n",
       "660  2020-05-09T12:43:54Z  37.536027  127.075412         30         NaN\n",
       "\n",
       "[661 rows x 5 columns]"
      ]
     },
     "execution_count": 9,
     "metadata": {},
     "output_type": "execute_result"
    }
   ],
   "source": [
    "df = pd.read_csv('output.csv')\n",
    "df"
   ]
  },
  {
   "cell_type": "code",
   "execution_count": 12,
   "metadata": {},
   "outputs": [],
   "source": [
    "import datetime as dt "
   ]
  },
  {
   "cell_type": "code",
   "execution_count": 15,
   "metadata": {},
   "outputs": [
    {
     "data": {
      "text/plain": [
       "'2020-05-09T12:24:58Z'"
      ]
     },
     "execution_count": 15,
     "metadata": {},
     "output_type": "execute_result"
    }
   ],
   "source": [
    "df['timestamp'][0]"
   ]
  },
  {
   "cell_type": "code",
   "execution_count": 17,
   "metadata": {},
   "outputs": [
    {
     "ename": "TypeError",
     "evalue": "an integer is required (got type str)",
     "output_type": "error",
     "traceback": [
      "\u001b[0;31m---------------------------------------------------------------------------\u001b[0m",
      "\u001b[0;31mTypeError\u001b[0m                                 Traceback (most recent call last)",
      "\u001b[0;32m<ipython-input-17-373d87937e5a>\u001b[0m in \u001b[0;36m<module>\u001b[0;34m\u001b[0m\n\u001b[1;32m      1\u001b[0m \u001b[0;31m# dt.date('2020-05-09T12:24:58Z')\u001b[0m\u001b[0;34m\u001b[0m\u001b[0;34m\u001b[0m\u001b[0;34m\u001b[0m\u001b[0m\n\u001b[1;32m      2\u001b[0m \u001b[0;34m\u001b[0m\u001b[0m\n\u001b[0;32m----> 3\u001b[0;31m \u001b[0mdt\u001b[0m\u001b[0;34m.\u001b[0m\u001b[0mdatetime\u001b[0m\u001b[0;34m(\u001b[0m\u001b[0;34m'2020-05-09T12:24:58Z'\u001b[0m\u001b[0;34m)\u001b[0m\u001b[0;34m\u001b[0m\u001b[0;34m\u001b[0m\u001b[0m\n\u001b[0m",
      "\u001b[0;31mTypeError\u001b[0m: an integer is required (got type str)"
     ]
    }
   ],
   "source": [
    "# dt.date('2020-05-09T12:24:58Z')\n",
    "# dt.datetime('2020-05-09T12:24:58Z')\n",
    "\n"
   ]
  },
  {
   "cell_type": "code",
   "execution_count": 11,
   "metadata": {},
   "outputs": [],
   "source": [
    "# 추가돠면 좋을 컬럼.\n",
    "# df['date_kr'] #\n",
    "df['activity_status'] #상태값 idle, call_wating, picked_up, delivering, off\n",
    "df['velocity'] = ''# 속력"
   ]
  },
  {
   "cell_type": "code",
   "execution_count": null,
   "metadata": {},
   "outputs": [],
   "source": []
  }
 ],
 "metadata": {
  "kernelspec": {
   "display_name": "Python 3",
   "language": "python",
   "name": "python3"
  },
  "language_info": {
   "codemirror_mode": {
    "name": "ipython",
    "version": 3
   },
   "file_extension": ".py",
   "mimetype": "text/x-python",
   "name": "python",
   "nbconvert_exporter": "python",
   "pygments_lexer": "ipython3",
   "version": "3.7.6"
  }
 },
 "nbformat": 4,
 "nbformat_minor": 4
}
